{
  "cells": [
    {
      "cell_type": "code",
      "source": [
        "## Speech and Natural Language Processing (SNLP)\n",
        "\n",
        "## Lab06\n",
        "## Question Answering and NER (Part 1- QnA)"
      ],
      "metadata": {
        "id": "LktaCysx2ruy"
      },
      "execution_count": null,
      "outputs": []
    },
    {
      "cell_type": "code",
      "execution_count": null,
      "metadata": {
        "_cell_guid": "b1076dfc-b9ad-4769-8c92-a6c4dae69d19",
        "_uuid": "8f2839f25d086af736a60e9eeb907d3b93b6e0e5",
        "execution": {
          "iopub.execute_input": "2024-09-06T06:28:16.601481Z",
          "iopub.status.busy": "2024-09-06T06:28:16.601197Z",
          "iopub.status.idle": "2024-09-06T06:28:16.968892Z",
          "shell.execute_reply": "2024-09-06T06:28:16.967924Z",
          "shell.execute_reply.started": "2024-09-06T06:28:16.601449Z"
        },
        "id": "2wIBWFVu0PBZ",
        "outputId": "90ec5045-b241-4944-9409-df69d73125e9"
      },
      "outputs": [
        {
          "name": "stdout",
          "output_type": "stream",
          "text": [
            "/kaggle/input/stanford-question-answering-dataset/train-v1.1.json\n",
            "/kaggle/input/stanford-question-answering-dataset/dev-v1.1.json\n"
          ]
        }
      ],
      "source": [
        "# This Python 3 environment comes with many helpful analytics libraries installed\n",
        "# It is defined by the kaggle/python Docker image: https://github.com/kaggle/docker-python\n",
        "# For example, here's several helpful packages to load\n",
        "\n",
        "import pandas as pd\n",
        "import pandas as pd\n",
        "\n",
        "for dirname, _, filenames in os.walk('/kaggle/input'):\n",
        "    for filename in filenames:\n",
        "        print(os.path.join(dirname, filename))\n",
        "\n",
        "# You can write up to 20GB to the current directory (/kaggle/working/) that gets preserved as output when you create a version using \"Save & Run All\"\n",
        "# You can also write temporary files to /kaggle/temp/, but they won't be saved outside of the current session"
      ]
    },
    {
      "cell_type": "code",
      "execution_count": null,
      "metadata": {
        "execution": {
          "iopub.execute_input": "2024-09-06T06:35:40.927135Z",
          "iopub.status.busy": "2024-09-06T06:35:40.926816Z",
          "iopub.status.idle": "2024-09-06T06:35:46.591184Z",
          "shell.execute_reply": "2024-09-06T06:35:46.590413Z",
          "shell.execute_reply.started": "2024-09-06T06:35:40.927080Z"
        },
        "id": "KVzkeCy30PBb"
      },
      "outputs": [],
      "source": [
        "import transformers\n",
        "import json\n",
        "import os\n",
        "import warnings\n",
        "from datasets import Dataset\n",
        "warnings.filterwarnings(\"ignore\")"
      ]
    },
    {
      "cell_type": "code",
      "execution_count": null,
      "metadata": {
        "execution": {
          "iopub.execute_input": "2024-09-06T06:35:46.593715Z",
          "iopub.status.busy": "2024-09-06T06:35:46.592856Z",
          "iopub.status.idle": "2024-09-06T06:35:47.738346Z",
          "shell.execute_reply": "2024-09-06T06:35:47.737430Z",
          "shell.execute_reply.started": "2024-09-06T06:35:46.593668Z"
        },
        "id": "l5zX8kwb0PBc"
      },
      "outputs": [],
      "source": [
        "with open('/kaggle/input/stanford-question-answering-dataset/train-v1.1.json') as train_file:\n",
        "    train_data = json.load(train_file)\n",
        "\n",
        "with open('/kaggle/input/stanford-question-answering-dataset/dev-v1.1.json') as dev_file:\n",
        "    dev_data = json.load(dev_file)"
      ]
    },
    {
      "cell_type": "code",
      "execution_count": null,
      "metadata": {
        "execution": {
          "iopub.execute_input": "2024-09-06T06:35:53.460138Z",
          "iopub.status.busy": "2024-09-06T06:35:53.459508Z",
          "iopub.status.idle": "2024-09-06T06:35:53.467211Z",
          "shell.execute_reply": "2024-09-06T06:35:53.466085Z",
          "shell.execute_reply.started": "2024-09-06T06:35:53.460089Z"
        },
        "id": "qrcaRdeS0PBc"
      },
      "outputs": [],
      "source": [
        "def prepare_dataset(data):\n",
        "    contexts = []\n",
        "    questions = []\n",
        "    answers = []\n",
        "\n",
        "    for article in data['data']:\n",
        "        for paragraph in article['paragraphs']:\n",
        "            context = paragraph['context']\n",
        "            for qa in paragraph['qas']:\n",
        "                question = qa['question']\n",
        "                answer = qa['answers'][0]  # Take the first answer\n",
        "                answer['text'] = answer['text']\n",
        "                answer['answer_start'] = answer['answer_start']\n",
        "\n",
        "                contexts.append(context)\n",
        "                questions.append(question)\n",
        "                answers.append(answer)\n",
        "\n",
        "    return Dataset.from_dict({'context': contexts, 'question': questions, 'answers': answers})"
      ]
    },
    {
      "cell_type": "code",
      "execution_count": null,
      "metadata": {
        "execution": {
          "iopub.execute_input": "2024-09-06T06:36:03.566179Z",
          "iopub.status.busy": "2024-09-06T06:36:03.565233Z",
          "iopub.status.idle": "2024-09-06T06:36:04.634037Z",
          "shell.execute_reply": "2024-09-06T06:36:04.633283Z",
          "shell.execute_reply.started": "2024-09-06T06:36:03.566136Z"
        },
        "id": "JBs-VmwM0PBc"
      },
      "outputs": [],
      "source": [
        "train_dataset = prepare_dataset(train_data)\n",
        "dev_dataset = prepare_dataset(dev_data)"
      ]
    },
    {
      "cell_type": "code",
      "execution_count": null,
      "metadata": {
        "execution": {
          "iopub.execute_input": "2024-09-06T06:36:12.755608Z",
          "iopub.status.busy": "2024-09-06T06:36:12.754800Z",
          "iopub.status.idle": "2024-09-06T06:36:14.102574Z",
          "shell.execute_reply": "2024-09-06T06:36:14.101378Z",
          "shell.execute_reply.started": "2024-09-06T06:36:12.755567Z"
        },
        "colab": {
          "referenced_widgets": [
            "36370755aab94a0382f3cc1bfcdb55b0",
            "b002ea02265047668dfa74c7cb270d96",
            "7f8ce837c7e14594a51612c7709ff975",
            "a1d1b8dcee5d47c281ceaf330f10849f"
          ]
        },
        "id": "cp4Qeve30PBd",
        "outputId": "1085c5d7-54ed-44e2-ae20-935b26620ea4"
      },
      "outputs": [
        {
          "data": {
            "application/vnd.jupyter.widget-view+json": {
              "model_id": "36370755aab94a0382f3cc1bfcdb55b0",
              "version_major": 2,
              "version_minor": 0
            },
            "text/plain": [
              "tokenizer_config.json:   0%|          | 0.00/48.0 [00:00<?, ?B/s]"
            ]
          },
          "metadata": {},
          "output_type": "display_data"
        },
        {
          "data": {
            "application/vnd.jupyter.widget-view+json": {
              "model_id": "b002ea02265047668dfa74c7cb270d96",
              "version_major": 2,
              "version_minor": 0
            },
            "text/plain": [
              "config.json:   0%|          | 0.00/483 [00:00<?, ?B/s]"
            ]
          },
          "metadata": {},
          "output_type": "display_data"
        },
        {
          "data": {
            "application/vnd.jupyter.widget-view+json": {
              "model_id": "7f8ce837c7e14594a51612c7709ff975",
              "version_major": 2,
              "version_minor": 0
            },
            "text/plain": [
              "vocab.txt:   0%|          | 0.00/232k [00:00<?, ?B/s]"
            ]
          },
          "metadata": {},
          "output_type": "display_data"
        },
        {
          "data": {
            "application/vnd.jupyter.widget-view+json": {
              "model_id": "a1d1b8dcee5d47c281ceaf330f10849f",
              "version_major": 2,
              "version_minor": 0
            },
            "text/plain": [
              "tokenizer.json:   0%|          | 0.00/466k [00:00<?, ?B/s]"
            ]
          },
          "metadata": {},
          "output_type": "display_data"
        }
      ],
      "source": [
        "from transformers import AutoTokenizer\n",
        "\n",
        "model_name='distilbert-base-uncased'\n",
        "tokenizer = AutoTokenizer.from_pretrained(model_name)"
      ]
    },
    {
      "cell_type": "code",
      "execution_count": null,
      "metadata": {
        "execution": {
          "iopub.execute_input": "2024-09-06T06:36:23.716098Z",
          "iopub.status.busy": "2024-09-06T06:36:23.715717Z",
          "iopub.status.idle": "2024-09-06T06:36:23.723096Z",
          "shell.execute_reply": "2024-09-06T06:36:23.722187Z",
          "shell.execute_reply.started": "2024-09-06T06:36:23.716062Z"
        },
        "id": "k0xDOXOr0PBd"
      },
      "outputs": [],
      "source": [
        "def preprocess_function(examples):\n",
        "    questions = [q.strip() for q in examples['question']]\n",
        "    inputs = tokenizer(\n",
        "        questions,\n",
        "        examples['context'],\n",
        "        max_length=384,\n",
        "        truncation=True,\n",
        "        padding=\"max_length\",\n",
        "        return_offsets_mapping=True,  # Now supported by the fast tokenizer\n",
        "        return_tensors=\"pt\"\n",
        "    )\n",
        "\n",
        "    start_positions = []\n",
        "    end_positions = []\n",
        "\n",
        "    for i, answer in enumerate(examples['answers']):\n",
        "        start_positions.append(answer['answer_start'])\n",
        "        end_positions.append(answer['answer_start'] + len(answer['text']))\n",
        "\n",
        "    inputs.update({\n",
        "        \"start_positions\": start_positions,\n",
        "        \"end_positions\": end_positions,\n",
        "    })\n",
        "\n",
        "    return inputs"
      ]
    },
    {
      "cell_type": "code",
      "execution_count": null,
      "metadata": {
        "execution": {
          "iopub.execute_input": "2024-09-06T06:36:33.084825Z",
          "iopub.status.busy": "2024-09-06T06:36:33.084438Z",
          "iopub.status.idle": "2024-09-06T06:41:36.132777Z",
          "shell.execute_reply": "2024-09-06T06:41:36.131679Z",
          "shell.execute_reply.started": "2024-09-06T06:36:33.084788Z"
        },
        "colab": {
          "referenced_widgets": [
            "4378c524fffd4a0e8981d7b2555f75b0",
            "1433dd4a84ce42c78643242fdb2a94f7"
          ]
        },
        "id": "Pg4U7Cfw0PBd",
        "outputId": "c8208d51-a4fc-496b-87bf-10191998a3b6"
      },
      "outputs": [
        {
          "data": {
            "application/vnd.jupyter.widget-view+json": {
              "model_id": "4378c524fffd4a0e8981d7b2555f75b0",
              "version_major": 2,
              "version_minor": 0
            },
            "text/plain": [
              "Map:   0%|          | 0/87599 [00:00<?, ? examples/s]"
            ]
          },
          "metadata": {},
          "output_type": "display_data"
        },
        {
          "data": {
            "application/vnd.jupyter.widget-view+json": {
              "model_id": "1433dd4a84ce42c78643242fdb2a94f7",
              "version_major": 2,
              "version_minor": 0
            },
            "text/plain": [
              "Map:   0%|          | 0/10570 [00:00<?, ? examples/s]"
            ]
          },
          "metadata": {},
          "output_type": "display_data"
        }
      ],
      "source": [
        "tokenized_train_dataset = train_dataset.map(preprocess_function, batched=True)\n",
        "tokenized_dev_dataset = dev_dataset.map(preprocess_function, batched=True)"
      ]
    },
    {
      "cell_type": "code",
      "execution_count": null,
      "metadata": {
        "execution": {
          "iopub.execute_input": "2024-09-06T06:41:36.135241Z",
          "iopub.status.busy": "2024-09-06T06:41:36.134846Z",
          "iopub.status.idle": "2024-09-06T06:41:55.383570Z",
          "shell.execute_reply": "2024-09-06T06:41:55.382551Z",
          "shell.execute_reply.started": "2024-09-06T06:41:36.135198Z"
        },
        "colab": {
          "referenced_widgets": [
            "b1c7864e2bc74144832dc19e8c26e3d1"
          ]
        },
        "id": "C2sskej60PBd",
        "outputId": "c0cf910b-40d2-4077-a74c-1ed19fbb9589"
      },
      "outputs": [
        {
          "data": {
            "application/vnd.jupyter.widget-view+json": {
              "model_id": "b1c7864e2bc74144832dc19e8c26e3d1",
              "version_major": 2,
              "version_minor": 0
            },
            "text/plain": [
              "model.safetensors:   0%|          | 0.00/268M [00:00<?, ?B/s]"
            ]
          },
          "metadata": {},
          "output_type": "display_data"
        },
        {
          "name": "stderr",
          "output_type": "stream",
          "text": [
            "Some weights of DistilBertForQuestionAnswering were not initialized from the model checkpoint at distilbert-base-uncased and are newly initialized: ['qa_outputs.bias', 'qa_outputs.weight']\n",
            "You should probably TRAIN this model on a down-stream task to be able to use it for predictions and inference.\n"
          ]
        }
      ],
      "source": [
        "from transformers import AutoModelForQuestionAnswering, TrainingArguments, Trainer\n",
        "\n",
        "model = AutoModelForQuestionAnswering.from_pretrained(model_name)"
      ]
    },
    {
      "cell_type": "code",
      "execution_count": null,
      "metadata": {
        "execution": {
          "iopub.execute_input": "2024-09-06T06:41:55.385583Z",
          "iopub.status.busy": "2024-09-06T06:41:55.384898Z",
          "iopub.status.idle": "2024-09-06T07:44:48.868630Z",
          "shell.execute_reply": "2024-09-06T07:44:48.867716Z",
          "shell.execute_reply.started": "2024-09-06T06:41:55.385542Z"
        },
        "id": "A-7dxslL0PBe"
      },
      "outputs": [],
      "source": [
        "training_args = TrainingArguments(\n",
        "    output_dir=\"./results\",\n",
        "    evaluation_strategy=\"epoch\",\n",
        "    learning_rate=2e-5,\n",
        "    per_device_train_batch_size=16,\n",
        "    per_device_eval_batch_size=16,\n",
        "    num_train_epochs=2,\n",
        "    weight_decay=0.01,\n",
        ")\n",
        "\n",
        "trainer = Trainer(\n",
        "    model=model,\n",
        "    args=training_args,\n",
        "    train_dataset=tokenized_train_dataset,\n",
        "    eval_dataset=tokenized_dev_dataset\n",
        ")\n",
        "\n",
        "trainer.train()"
      ]
    },
    {
      "cell_type": "code",
      "execution_count": null,
      "metadata": {
        "execution": {
          "iopub.execute_input": "2024-09-06T07:44:48.870755Z",
          "iopub.status.busy": "2024-09-06T07:44:48.870441Z",
          "iopub.status.idle": "2024-09-06T07:44:49.367388Z",
          "shell.execute_reply": "2024-09-06T07:44:49.366274Z",
          "shell.execute_reply.started": "2024-09-06T07:44:48.870721Z"
        },
        "id": "dDQjWJCd0PBe"
      },
      "outputs": [],
      "source": [
        "from transformers import pipeline\n",
        "qa_pipeline = pipeline(\"question-answering\", model=model, tokenizer=tokenizer,device=0)"
      ]
    },
    {
      "cell_type": "code",
      "execution_count": null,
      "metadata": {
        "execution": {
          "iopub.execute_input": "2024-09-06T07:44:49.368969Z",
          "iopub.status.busy": "2024-09-06T07:44:49.368601Z",
          "iopub.status.idle": "2024-09-06T07:44:49.394751Z",
          "shell.execute_reply": "2024-09-06T07:44:49.393744Z",
          "shell.execute_reply.started": "2024-09-06T07:44:49.368926Z"
        },
        "id": "rriG0_la0PBe"
      },
      "outputs": [],
      "source": [
        "context=\"I am Pranay Vuppala. I am born and bought up at Mumbai, Maharashtra. I am pursuing B.Tech Data Science at SVKM's NMIMS MPSTME.\"\n",
        "question='Where does Amulya Stay ?'\n",
        "\n",
        "result = qa_pipeline({\n",
        "    'context': context,\n",
        "    'question': question\n",
        "})"
      ]
    },
    {
      "cell_type": "code",
      "execution_count": null,
      "metadata": {
        "execution": {
          "iopub.execute_input": "2024-09-06T07:44:49.397776Z",
          "iopub.status.busy": "2024-09-06T07:44:49.396217Z",
          "iopub.status.idle": "2024-09-06T07:44:49.404521Z",
          "shell.execute_reply": "2024-09-06T07:44:49.403522Z",
          "shell.execute_reply.started": "2024-09-06T07:44:49.397729Z"
        },
        "id": "fDzLCa-N0PBe",
        "outputId": "e7c33eb2-b22f-4b82-db6f-e6ee588346c9"
      },
      "outputs": [
        {
          "name": "stdout",
          "output_type": "stream",
          "text": [
            "Prediction: {'score': 0.023877525702118874, 'start': 23, 'end': 41, 'answer': 'He stays in Mumbai'}\n"
          ]
        }
      ],
      "source": [
        "print(\"Prediction:\", result)"
      ]
    },
    {
      "cell_type": "code",
      "execution_count": null,
      "metadata": {
        "execution": {
          "iopub.execute_input": "2024-09-06T07:45:28.142783Z",
          "iopub.status.busy": "2024-09-06T07:45:28.141876Z",
          "iopub.status.idle": "2024-09-06T07:45:28.148965Z",
          "shell.execute_reply": "2024-09-06T07:45:28.147870Z",
          "shell.execute_reply.started": "2024-09-06T07:45:28.142742Z"
        },
        "id": "ze8-o1RK0PBf"
      },
      "outputs": [],
      "source": [
        "predicted_start = result['start']\n",
        "predicted_end = result['end']\n",
        "\n",
        "\n",
        "true_answer = \"He stays in Mumbai\"\n",
        "true_start = context.find(true_answer)\n",
        "true_end = true_start + len(true_answer)"
      ]
    },
    {
      "cell_type": "code",
      "execution_count": null,
      "metadata": {
        "execution": {
          "iopub.execute_input": "2024-09-06T07:45:28.906771Z",
          "iopub.status.busy": "2024-09-06T07:45:28.905891Z",
          "iopub.status.idle": "2024-09-06T07:45:28.914580Z",
          "shell.execute_reply": "2024-09-06T07:45:28.913443Z",
          "shell.execute_reply.started": "2024-09-06T07:45:28.906721Z"
        },
        "id": "tP1FB1Ll0PBf"
      },
      "outputs": [],
      "source": [
        "def compute_iou(pred, ref):\n",
        "    pred_tokens = set(range(pred['start_positions'], pred['end_positions']))\n",
        "    ref_tokens = set(range(ref['start_positions'], ref['end_positions']))\n",
        "    intersection = len(pred_tokens & ref_tokens)\n",
        "    union = len(pred_tokens | ref_tokens)\n",
        "    return intersection / union if union != 0 else 0"
      ]
    },
    {
      "cell_type": "code",
      "execution_count": null,
      "metadata": {
        "execution": {
          "iopub.execute_input": "2024-09-06T07:45:29.312548Z",
          "iopub.status.busy": "2024-09-06T07:45:29.311677Z",
          "iopub.status.idle": "2024-09-06T07:45:29.319026Z",
          "shell.execute_reply": "2024-09-06T07:45:29.317863Z",
          "shell.execute_reply.started": "2024-09-06T07:45:29.312507Z"
        },
        "id": "vcH0ipPE0PBf"
      },
      "outputs": [],
      "source": [
        "pred = {'start_positions': predicted_start, 'end_positions': predicted_end}\n",
        "ref = {'start_positions': true_start, 'end_positions': true_end}\n",
        "\n",
        "# Compute token-level IoU\n",
        "iou_score = compute_iou(pred, ref)"
      ]
    },
    {
      "cell_type": "code",
      "execution_count": null,
      "metadata": {
        "execution": {
          "iopub.execute_input": "2024-09-06T07:45:30.095721Z",
          "iopub.status.busy": "2024-09-06T07:45:30.094846Z",
          "iopub.status.idle": "2024-09-06T07:45:30.103589Z",
          "shell.execute_reply": "2024-09-06T07:45:30.102200Z",
          "shell.execute_reply.started": "2024-09-06T07:45:30.095680Z"
        },
        "id": "kWSL5eCA0PBf",
        "outputId": "d3aac243-5db9-43c6-b415-9aa9e4ba8e92"
      },
      "outputs": [
        {
          "name": "stdout",
          "output_type": "stream",
          "text": [
            "Prediction: He stays in Mumbai\n",
            "True Answer: He stays in Mumbai\n",
            "Token-level IoU: 1.0\n"
          ]
        }
      ],
      "source": [
        "print(\"Prediction:\", result['answer'])\n",
        "print(\"True Answer:\", true_answer)\n",
        "print(\"Token-level IoU:\", iou_score)"
      ]
    },
    {
      "cell_type": "code",
      "execution_count": null,
      "metadata": {
        "id": "X9KHDVkX0PBf"
      },
      "outputs": [],
      "source": []
    }
  ],
  "metadata": {
    "kaggle": {
      "accelerator": "none",
      "dataSources": [
        {
          "datasetId": 374,
          "sourceId": 799923,
          "sourceType": "datasetVersion"
        }
      ],
      "dockerImageVersionId": 30762,
      "isGpuEnabled": false,
      "isInternetEnabled": true,
      "language": "python",
      "sourceType": "notebook"
    },
    "kernelspec": {
      "display_name": "Python 3 (ipykernel)",
      "language": "python",
      "name": "python3"
    },
    "language_info": {
      "codemirror_mode": {
        "name": "ipython",
        "version": 3
      },
      "file_extension": ".py",
      "mimetype": "text/x-python",
      "name": "python",
      "nbconvert_exporter": "python",
      "pygments_lexer": "ipython3",
      "version": "3.9.12"
    },
    "colab": {
      "provenance": []
    }
  },
  "nbformat": 4,
  "nbformat_minor": 0
}